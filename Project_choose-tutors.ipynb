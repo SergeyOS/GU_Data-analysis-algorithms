{
 "cells": [
  {
   "cell_type": "markdown",
   "metadata": {},
   "source": [
    "##### Задание:\n",
    "In this competition your task will be to predict if a tutor is a proper one for preparing for the math exam.   \n",
    "\n",
    "You can only use these imports:  \n",
    "\n",
    "import numpy as np  \n",
    "import pandas as pd   \n",
    "from sklearn.model_selection import train_test_split   \n",
    "import matplotlib.pyplot as plt   \n",
    "import seaborn as sns  "
   ]
  },
  {
   "cell_type": "code",
   "execution_count": 1,
   "metadata": {},
   "outputs": [],
   "source": [
    "import numpy as np  \n",
    "import pandas as pd   \n",
    "from sklearn.model_selection import train_test_split   \n",
    "import matplotlib.pyplot as plt   \n",
    "import seaborn as sns  \n",
    "import random"
   ]
  },
  {
   "cell_type": "markdown",
   "metadata": {},
   "source": [
    "##### Библиотеки"
   ]
  },
  {
   "cell_type": "code",
   "execution_count": 2,
   "metadata": {},
   "outputs": [],
   "source": [
    "# Реализуем класс узла\n",
    "\n",
    "class Node:\n",
    "    \n",
    "    def __init__(self, index, t, true_branch, false_branch):\n",
    "        self.index = index  # индекс признака, по которому ведется сравнение с порогом в этом узле\n",
    "        self.t = t  # значение порога\n",
    "        self.true_branch = true_branch  # поддерево, удовлетворяющее условию в узле\n",
    "        self.false_branch = false_branch  # поддерево, не удовлетворяющее условию в узле"
   ]
  },
  {
   "cell_type": "code",
   "execution_count": 3,
   "metadata": {},
   "outputs": [],
   "source": [
    "# И класс терминального узла (листа)\n",
    "\n",
    "class Leaf:\n",
    "    \n",
    "    def __init__(self, data, labels):\n",
    "        self.data = data\n",
    "        self.labels = labels\n",
    "        self.prediction = self.predict()\n",
    "        \n",
    "    def predict(self):\n",
    "        # подсчет количества объектов разных классов\n",
    "        classes = {}  # сформируем словарь \"класс: количество объектов\"\n",
    "        for label in self.labels:\n",
    "            if label not in classes:\n",
    "                classes[label] = 0\n",
    "            classes[label] += 1\n",
    "        #  найдем класс, количество объектов которого будет максимальным в этом листе и вернем его    \n",
    "        prediction = max(classes, key=classes.get)\n",
    "        return prediction    "
   ]
  },
  {
   "cell_type": "code",
   "execution_count": 4,
   "metadata": {},
   "outputs": [],
   "source": [
    "def get_bootstrap(data, labels, N, max_samples):\n",
    "    n_samples = int(data.shape[0]*max_samples)\n",
    "    bootstrap = []\n",
    "    \n",
    "    for i in range(N):\n",
    "        #print(f'Build bootstrap {i}')\n",
    "        b_data = np.zeros((n_samples, data.shape[1]))\n",
    "        b_labels = np.zeros(n_samples)\n",
    "        \n",
    "        for j in range(n_samples):\n",
    "            #sample_indexes = [i for i in range(n_samples-1)]\n",
    "            ##df = pd.DataFrame(sample_indexes)\n",
    "            ##sample_index = df.sample(n=1).values[0][0]\n",
    "            sample_index = random.randint(0, n_samples-1)\n",
    "            b_data[j] = data[sample_index]\n",
    "            b_labels[j] = labels[sample_index]\n",
    "        bootstrap.append((b_data, b_labels))\n",
    "        \n",
    "    return bootstrap"
   ]
  },
  {
   "cell_type": "code",
   "execution_count": 5,
   "metadata": {},
   "outputs": [],
   "source": [
    "def get_subsample(len_sample):\n",
    "    # будем сохранять не сами признаки, а их индексы\n",
    "    sample_indexes = [i for i in range(len_sample)]\n",
    "    \n",
    "    len_subsample = int(np.sqrt(len_sample))\n",
    "    subsample = []\n",
    "    \n",
    "    #df = pd.DataFrame(sample_indexes)\n",
    "    #for _ in df[0].sample(n=len_subsample, random_state=1):\n",
    "        \n",
    "    random.shuffle(sample_indexes)\n",
    "    for _ in range(len_subsample):\n",
    "        subsample.append(sample_indexes.pop())\n",
    "        \n",
    "    return subsample\n"
   ]
  },
  {
   "cell_type": "code",
   "execution_count": 6,
   "metadata": {},
   "outputs": [],
   "source": [
    "# Расчет критерия Джини\n",
    "\n",
    "def gini(labels):\n",
    "    #  подсчет количества объектов разных классов\n",
    "    classes = {}\n",
    "    for label in labels:\n",
    "        if label not in classes:\n",
    "            classes[label] = 0\n",
    "        classes[label] += 1\n",
    "    \n",
    "    #  расчет критерия\n",
    "    impurity = 1\n",
    "    for label in classes:\n",
    "        p = classes[label] / len(labels)\n",
    "        impurity -= p ** 2\n",
    "        \n",
    "    return impurity\n",
    "\n",
    "# Расчет критерия Шеннона\n",
    "import math\n",
    "\n",
    "def Shennon(labels):\n",
    "    #  подсчет количества объектов разных классов\n",
    "    classes = {}\n",
    "    for label in labels:\n",
    "        if label not in classes:\n",
    "            classes[label] = 0\n",
    "        classes[label] += 1\n",
    "    \n",
    "    #  расчет критерия\n",
    "    entropy= 1\n",
    "    for label in classes:\n",
    "        p = classes[label] / len(labels)\n",
    "        entropy -= p * math.log(p,2) \n",
    "    \n",
    "    return entropy\n",
    "        \n",
    "def current_crit(labels, default_crit = 'Gini'):\n",
    "    if default_crit == 'Shennon':\n",
    "        return Shennon(labels)\n",
    "    else:\n",
    "        return  gini(labels)"
   ]
  },
  {
   "cell_type": "code",
   "execution_count": 7,
   "metadata": {},
   "outputs": [],
   "source": [
    "def quality(left_labels, right_labels, current_value):\n",
    "\n",
    "    # доля выбоки, ушедшая в левое поддерево\n",
    "    p = float(left_labels.shape[0]) / (left_labels.shape[0] + right_labels.shape[0])\n",
    "    return current_value - p * current_crit(left_labels) - (1 - p) * current_crit(right_labels)"
   ]
  },
  {
   "cell_type": "code",
   "execution_count": 8,
   "metadata": {},
   "outputs": [],
   "source": [
    "# Разбиение датасета в узле\n",
    "\n",
    "def split(data, labels, index, t):\n",
    "    \n",
    "    left = np.where(data[:, index] <= t)\n",
    "    right = np.where(data[:, index] > t)\n",
    "        \n",
    "    true_data = data[left]\n",
    "    false_data = data[right]\n",
    "    true_labels = labels[left]\n",
    "    false_labels = labels[right]\n",
    "        \n",
    "    return true_data, false_data, true_labels, false_labels"
   ]
  },
  {
   "cell_type": "code",
   "execution_count": 9,
   "metadata": {},
   "outputs": [],
   "source": [
    "# Нахождение наилучшего разбиения\n",
    "\n",
    "def find_best_split(data, labels):\n",
    "    \n",
    "    #  обозначим минимальное количество объектов в узле\n",
    "    min_leaf = 5\n",
    "\n",
    "    current_value = current_crit(labels)\n",
    "\n",
    "    best_quality = 0\n",
    "    best_t = None\n",
    "    best_index = None\n",
    "    \n",
    "    n_features = data.shape[1]\n",
    "    \n",
    "    # выбор индекса из подвыборки длиной sqrt(n_features)\n",
    "    subsample = get_subsample(n_features)\n",
    "    \n",
    "    for index in subsample:\n",
    "        t_values = [row[index] for row in data]\n",
    "        \n",
    "        for t in t_values:\n",
    "            true_data, false_data, true_labels, false_labels = split(data, labels, index, t)\n",
    "            #  пропускаем разбиения, в которых в узле остается менее 5 объектов\n",
    "            if len(true_data) < min_leaf or len(false_data) < min_leaf:\n",
    "                continue\n",
    "            \n",
    "            current_quality = quality(true_labels, false_labels, current_value)\n",
    "            \n",
    "            #  выбираем порог, на котором получается максимальный прирост качества\n",
    "            if current_quality > best_quality:\n",
    "                best_quality, best_t, best_index = current_quality, t, index\n",
    "\n",
    "    return best_quality, best_t, best_index"
   ]
  },
  {
   "cell_type": "code",
   "execution_count": 10,
   "metadata": {},
   "outputs": [],
   "source": [
    "# Построение дерева с помощью рекурсивной функции\n",
    "\n",
    "def build_tree(data, labels, max_depth, current_depth=0):\n",
    "\n",
    "    quality, t, index = find_best_split(data, labels)\n",
    "\n",
    "    #  Базовый случай - прекращаем рекурсию, когда нет прироста в качества\n",
    "    if quality == 0 or current_depth>=max_depth:\n",
    "        return Leaf(data, labels)\n",
    "\n",
    "    true_data, false_data, true_labels, false_labels = split(data, labels, index, t)\n",
    "\n",
    "    # Рекурсивно строим два поддерева\n",
    "    true_branch = build_tree(true_data, true_labels, current_depth + 1)\n",
    "    false_branch = build_tree(false_data, false_labels, current_depth + 1)\n",
    "\n",
    "    # Возвращаем класс узла со всеми поддеревьями, то есть целого дерева\n",
    "    return Node(index, t, true_branch, false_branch)"
   ]
  },
  {
   "cell_type": "code",
   "execution_count": 11,
   "metadata": {},
   "outputs": [],
   "source": [
    "import time\n",
    "def random_forest(data, labels, n_trees, max_depth = 1, max_samples = 1):\n",
    "    forest = []\n",
    "    bootstrap = get_bootstrap(data, labels, n_trees, max_samples)\n",
    "    i_tree = 0\n",
    "    start_time = time.time()\n",
    "    epoch_time = start_time\n",
    "    for b_data, b_labels in bootstrap:\n",
    "        i_tree += 1\n",
    "        forest.append(build_tree(b_data, b_labels, max_depth))\n",
    "        if i_tree % 3 == 1:\n",
    "            print(f'Build tree {i_tree} {(time.time() - epoch_time)}')\n",
    "            epoch_time = time.time()\n",
    "            \n",
    "    return forest"
   ]
  },
  {
   "cell_type": "code",
   "execution_count": 12,
   "metadata": {},
   "outputs": [],
   "source": [
    "# Функция классификации отдельного объекта\n",
    "\n",
    "def classify_object(obj, node):\n",
    "\n",
    "    #  Останавливаем рекурсию, если достигли листа\n",
    "    if isinstance(node, Leaf):\n",
    "        answer = node.prediction\n",
    "        return answer\n",
    "\n",
    "    if obj[node.index] <= node.t:\n",
    "        return classify_object(obj, node.true_branch)\n",
    "    else:\n",
    "        return classify_object(obj, node.false_branch)"
   ]
  },
  {
   "cell_type": "code",
   "execution_count": 13,
   "metadata": {},
   "outputs": [],
   "source": [
    "# функция формирования предсказания по выборке на одном дереве\n",
    "\n",
    "def predict(data, tree):\n",
    "    \n",
    "    classes = []\n",
    "    for obj in data:\n",
    "        prediction = classify_object(obj, tree)\n",
    "        classes.append(prediction)\n",
    "    return classes"
   ]
  },
  {
   "cell_type": "code",
   "execution_count": 14,
   "metadata": {},
   "outputs": [],
   "source": [
    "# предсказание голосованием деревьев\n",
    "\n",
    "def tree_vote(forest, data):\n",
    "\n",
    "    # добавим предсказания всех деревьев в список\n",
    "    predictions = []\n",
    "    for tree in forest:\n",
    "        predictions.append(predict(data, tree))\n",
    "    \n",
    "    # сформируем список с предсказаниями для каждого объекта\n",
    "    predictions_per_object = list(zip(*predictions))\n",
    "    \n",
    "    # выберем в качестве итогового предсказания для каждого объекта то,\n",
    "    # за которое проголосовало большинство деревьев\n",
    "    voted_predictions = []\n",
    "    for obj in predictions_per_object:\n",
    "        voted_predictions.append(max(set(obj), key=obj.count))\n",
    "        \n",
    "    return voted_predictions"
   ]
  },
  {
   "cell_type": "code",
   "execution_count": 15,
   "metadata": {},
   "outputs": [],
   "source": [
    "def ROC_AUC_metric(actual_, predicted_):\n",
    "    actual, predicted = actual_.copy(), predicted_.copy()\n",
    "    df = pd.DataFrame(data  = {'predicted': predicted, 'actual': actual})\n",
    "    df.sort_values(by=['actual'])\n",
    "    AUC = 0\n",
    "    TPR = 0\n",
    "    FPR = 0\n",
    "    TP=FP=TN=FN = 0\n",
    "    df_true = df.loc[df['predicted'] == df['actual'], 'predicted' ]\n",
    "    df_false = df.loc[df['predicted'] != df['actual'], 'predicted' ]\n",
    "    TP = df_true.sum()\n",
    "    TN = df_true.count() - TP\n",
    "    FP = df_false.sum()\n",
    "    FN = df_false.count() - FP  \n",
    "    TPR = TP/(TP+FN)\n",
    "    FPR = FP/(TN+FP)\n",
    "    AUC = (1 + TPR- FPR)/2\n",
    "    return AUC"
   ]
  },
  {
   "cell_type": "code",
   "execution_count": 16,
   "metadata": {},
   "outputs": [],
   "source": [
    "def info_dataset(df, name_dataset):\n",
    "    spam = ''\n",
    "    print(f'Dataset:{name_dataset}')\n",
    "    print(f'Название {spam:21}|Всего |Null-значений |Уникальных значений |Тип')\n",
    "    for column_name in df.columns:\n",
    "        all_count =  len(df[column_name])\n",
    "        null_count = sum(df[column_name].isnull())\n",
    "        unique_count = df[column_name].unique().size\n",
    "        print(f'{column_name:30}|{all_count:6}|{null_count:14}|{unique_count:20}|{df[column_name].dtype}')\n",
    "    print('-'*100)"
   ]
  },
  {
   "cell_type": "markdown",
   "metadata": {},
   "source": [
    "##### Data import"
   ]
  },
  {
   "cell_type": "code",
   "execution_count": 17,
   "metadata": {},
   "outputs": [],
   "source": [
    "TRAIN_DATASET_PATH = 'train.csv'\n",
    "TEST_DATASET_PATH = 'test.csv'\n",
    "TARGET_NAME = ['choose']\n",
    "ALL_FEATURES = ['age', 'years_of_experience', 'lesson_price', 'qualification', 'physics', 'chemistry', \n",
    "               'biology', 'english', 'geography', 'history', 'mean_exam_points']\n",
    "\n",
    "\n",
    "train = pd.read_csv(TRAIN_DATASET_PATH, index_col = 'Id')\n",
    "test = pd.read_csv(TEST_DATASET_PATH, index_col = 'Id')"
   ]
  },
  {
   "cell_type": "code",
   "execution_count": 18,
   "metadata": {},
   "outputs": [
    {
     "name": "stdout",
     "output_type": "stream",
     "text": [
      "Dataset:train\n",
      "Название                      |Всего |Null-значений |Уникальных значений |Тип\n",
      "age                           | 10000|             0|                  46|float64\n",
      "years_of_experience           | 10000|             0|                  10|float64\n",
      "lesson_price                  | 10000|             0|                  71|float64\n",
      "qualification                 | 10000|             0|                   4|float64\n",
      "physics                       | 10000|             0|                   2|float64\n",
      "chemistry                     | 10000|             0|                   2|float64\n",
      "biology                       | 10000|             0|                   2|float64\n",
      "english                       | 10000|             0|                   2|float64\n",
      "geography                     | 10000|             0|                   2|float64\n",
      "history                       | 10000|             0|                   2|float64\n",
      "mean_exam_points              | 10000|             0|                  68|float64\n",
      "choose                        | 10000|             0|                   2|int64\n",
      "----------------------------------------------------------------------------------------------------\n"
     ]
    }
   ],
   "source": [
    "info_dataset(train, 'train')"
   ]
  },
  {
   "cell_type": "code",
   "execution_count": 19,
   "metadata": {},
   "outputs": [
    {
     "data": {
      "image/png": "[encoded data removed]",
      "text/plain": [
       "<Figure size 1440x1440 with 2 Axes>"
      ]
     },
     "metadata": {
      "needs_background": "light"
     },
     "output_type": "display_data"
    }
   ],
   "source": [
    "plt.figure(figsize = (20,20))\n",
    "\n",
    "sns.set(font_scale=1)\n",
    "sns.heatmap(train.corr().round(3), annot=True, linewidths=.5, cmap='GnBu')\n",
    "\n",
    "plt.title('Correlation matrix')\n",
    "plt.show()"
   ]
  },
  {
   "cell_type": "code",
   "execution_count": 59,
   "metadata": {},
   "outputs": [],
   "source": [
    "ALL_FEATURES = ['age', 'years_of_experience', 'lesson_price', 'qualification', 'mean_exam_points']"
   ]
  },
  {
   "cell_type": "code",
   "execution_count": 60,
   "metadata": {},
   "outputs": [],
   "source": [
    "# Разобьем выборку на обучающую и тестовую\n",
    "\n",
    "from sklearn import model_selection\n",
    "X = train[ALL_FEATURES]\n",
    "Y = train[TARGET_NAME]\n",
    "train_data, valid_data, train_labels, valid_labels = model_selection.train_test_split(X, \n",
    "                                                                                     Y, \n",
    "                                                                                     test_size = 0.3,\n",
    "                                                                                     random_state = 1)"
   ]
  },
  {
   "cell_type": "code",
   "execution_count": 90,
   "metadata": {},
   "outputs": [
    {
     "name": "stdout",
     "output_type": "stream",
     "text": [
      "Build tree 1 34.6546094417572\n",
      "Build tree 4 114.21207308769226\n",
      "Build tree 7 116.90392398834229\n",
      "Build tree 10 115.11390352249146\n",
      "Build tree 13 129.79168224334717\n",
      "Build tree 16 94.95743417739868\n",
      "Build tree 19 113.10776615142822\n",
      "Build tree 22 104.88565826416016\n",
      "Build tree 25 117.12336325645447\n",
      "Build tree 28 124.52299213409424\n",
      "Build tree 31 109.30931210517883\n",
      "Build tree 34 90.47314190864563\n",
      "Build tree 37 94.91058993339539\n",
      "Build tree 40 113.54047751426697\n",
      "Build tree 43 117.79171013832092\n",
      "Build tree 46 96.3971381187439\n",
      "Build tree 49 113.72388052940369\n"
     ]
    }
   ],
   "source": [
    "n_trees = 50\n",
    "\n",
    "forest = random_forest(train_data.values,  train_labels.values.reshape(-1), n_trees, max_depth = 9, max_samples = 0.5)"
   ]
  },
  {
   "cell_type": "code",
   "execution_count": 91,
   "metadata": {},
   "outputs": [],
   "source": [
    "predicted = tree_vote(forest, valid_data.values)"
   ]
  },
  {
   "cell_type": "code",
   "execution_count": 92,
   "metadata": {},
   "outputs": [
    {
     "data": {
      "text/plain": [
       "0.5643077169958102"
      ]
     },
     "execution_count": 92,
     "metadata": {},
     "output_type": "execute_result"
    }
   ],
   "source": [
    "ROC_AUC_metric(valid_labels.values.reshape(-1), predicted)"
   ]
  },
  {
   "cell_type": "code",
   "execution_count": 93,
   "metadata": {},
   "outputs": [],
   "source": [
    "predicted = tree_vote(forest, train_data.values)"
   ]
  },
  {
   "cell_type": "code",
   "execution_count": 94,
   "metadata": {},
   "outputs": [
    {
     "data": {
      "text/plain": [
       "0.5943163878002622"
      ]
     },
     "execution_count": 94,
     "metadata": {},
     "output_type": "execute_result"
    }
   ],
   "source": [
    "ROC_AUC_metric(train_labels.values.reshape(-1), predicted)"
   ]
  },
  {
   "cell_type": "code",
   "execution_count": 95,
   "metadata": {},
   "outputs": [],
   "source": [
    "from sklearn.metrics import roc_auc_score"
   ]
  },
  {
   "cell_type": "code",
   "execution_count": 96,
   "metadata": {},
   "outputs": [
    {
     "data": {
      "text/plain": [
       "0.5943163878002622"
      ]
     },
     "execution_count": 96,
     "metadata": {},
     "output_type": "execute_result"
    }
   ],
   "source": [
    "roc_auc_score(train_labels.values.reshape(-1), predicted)"
   ]
  },
  {
   "cell_type": "code",
   "execution_count": 97,
   "metadata": {},
   "outputs": [],
   "source": [
    "predicted_test = tree_vote(forest, test.values)"
   ]
  },
  {
   "cell_type": "code",
   "execution_count": 98,
   "metadata": {},
   "outputs": [],
   "source": [
    "matrix = np.vstack((range(10000, 20000), predicted_test)).T\n",
    "final_df = pd.DataFrame(matrix, index=range(matrix.shape[0]),\n",
    "                          columns=range(matrix.shape[1]))\n",
    "final_df.columns = ['Id', 'choose']\n",
    "final_df['Id'] = final_df['Id'].astype('int')\n",
    "final_df['choose'] = final_df['choose'].astype('int')\n",
    "final_df.to_csv('result.csv', index=False)\n"
   ]
  },
  {
   "cell_type": "code",
   "execution_count": null,
   "metadata": {},
   "outputs": [],
   "source": []
  },
  {
   "cell_type": "code",
   "execution_count": null,
   "metadata": {},
   "outputs": [],
   "source": []
  }
 ],
 "metadata": {
  "kernelspec": {
   "display_name": "Python 3",
   "language": "python",
   "name": "python3"
  },
  "language_info": {
   "codemirror_mode": {
    "name": "ipython",
    "version": 3
   },
   "file_extension": ".py",
   "mimetype": "text/x-python",
   "name": "python",
   "nbconvert_exporter": "python",
   "pygments_lexer": "ipython3",
   "version": "3.7.5"
  }
 },
 "nbformat": 4,
 "nbformat_minor": 2
}
