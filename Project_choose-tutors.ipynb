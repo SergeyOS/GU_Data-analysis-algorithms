{
 "cells": [
  {
   "cell_type": "markdown",
   "metadata": {},
   "source": [
    "##### Задание:\n",
    "In this competition your task will be to predict if a tutor is a proper one for preparing for the math exam.   \n",
    "\n",
    "You can only use these imports:  \n",
    "\n",
    "import numpy as np  \n",
    "import pandas as pd   \n",
    "from sklearn.model_selection import train_test_split   \n",
    "import matplotlib.pyplot as plt   \n",
    "import seaborn as sns  "
   ]
  },
  {
   "cell_type": "code",
   "execution_count": 1,
   "metadata": {},
   "outputs": [],
   "source": [
    "import numpy as np  \n",
    "import pandas as pd   \n",
    "from sklearn.model_selection import train_test_split   \n",
    "import matplotlib.pyplot as plt   \n",
    "import seaborn as sns  \n",
    "import random"
   ]
  },
  {
   "cell_type": "markdown",
   "metadata": {},
   "source": [
    "##### Библиотеки"
   ]
  },
  {
   "cell_type": "code",
   "execution_count": 2,
   "metadata": {},
   "outputs": [],
   "source": [
    "# Реализуем класс узла\n",
    "\n",
    "class Node:\n",
    "    \n",
    "    def __init__(self, index, t, true_branch, false_branch):\n",
    "        self.index = index  # индекс признака, по которому ведется сравнение с порогом в этом узле\n",
    "        self.t = t  # значение порога\n",
    "        self.true_branch = true_branch  # поддерево, удовлетворяющее условию в узле\n",
    "        self.false_branch = false_branch  # поддерево, не удовлетворяющее условию в узле"
   ]
  },
  {
   "cell_type": "code",
   "execution_count": 3,
   "metadata": {},
   "outputs": [],
   "source": [
    "# И класс терминального узла (листа)\n",
    "\n",
    "class Leaf:\n",
    "    \n",
    "    def __init__(self, data, labels):\n",
    "        self.data = data\n",
    "        self.labels = labels\n",
    "        self.prediction = self.predict()\n",
    "        \n",
    "    def predict(self):\n",
    "        # подсчет количества объектов разных классов\n",
    "        classes = {}  # сформируем словарь \"класс: количество объектов\"\n",
    "        for label in self.labels:\n",
    "            if label not in classes:\n",
    "                classes[label] = 0\n",
    "            classes[label] += 1\n",
    "        #  найдем класс, количество объектов которого будет максимальным в этом листе и вернем его    \n",
    "        prediction = max(classes, key=classes.get)\n",
    "        return prediction    "
   ]
  },
  {
   "cell_type": "code",
   "execution_count": 4,
   "metadata": {},
   "outputs": [],
   "source": [
    "def get_bootstrap(data, labels, N, max_samples):\n",
    "    n_samples = int(data.shape[0]*max_samples)\n",
    "    bootstrap = []\n",
    "    \n",
    "    for i in range(N):\n",
    "        #print(f'Build bootstrap {i}')\n",
    "        b_data = np.zeros((n_samples, data.shape[1]))\n",
    "        b_labels = np.zeros(n_samples)\n",
    "        \n",
    "        for j in range(n_samples):\n",
    "            #sample_indexes = [i for i in range(n_samples-1)]\n",
    "            ##df = pd.DataFrame(sample_indexes)\n",
    "            ##sample_index = df.sample(n=1).values[0][0]\n",
    "            sample_index = random.randint(0, n_samples-1)\n",
    "            b_data[j] = data[sample_index]\n",
    "            b_labels[j] = labels[sample_index]\n",
    "        bootstrap.append((b_data, b_labels))\n",
    "        \n",
    "    return bootstrap"
   ]
  },
  {
   "cell_type": "code",
   "execution_count": 5,
   "metadata": {},
   "outputs": [],
   "source": [
    "def get_subsample(len_sample):\n",
    "    # будем сохранять не сами признаки, а их индексы\n",
    "    sample_indexes = [i for i in range(len_sample)]\n",
    "    \n",
    "    len_subsample = int(np.sqrt(len_sample))\n",
    "    subsample = []\n",
    "    \n",
    "    #df = pd.DataFrame(sample_indexes)\n",
    "    #for _ in df[0].sample(n=len_subsample, random_state=1):\n",
    "        \n",
    "    random.shuffle(sample_indexes)\n",
    "    for _ in range(len_subsample):\n",
    "        subsample.append(sample_indexes.pop())\n",
    "        \n",
    "    return subsample\n"
   ]
  },
  {
   "cell_type": "code",
   "execution_count": 6,
   "metadata": {},
   "outputs": [],
   "source": [
    "# Расчет критерия Джини\n",
    "\n",
    "def gini(labels):\n",
    "    #  подсчет количества объектов разных классов\n",
    "    classes = {}\n",
    "    for label in labels:\n",
    "        if label not in classes:\n",
    "            classes[label] = 0\n",
    "        classes[label] += 1\n",
    "    \n",
    "    #  расчет критерия\n",
    "    impurity = 1\n",
    "    for label in classes:\n",
    "        p = classes[label] / len(labels)\n",
    "        impurity -= p ** 2\n",
    "        \n",
    "    return impurity\n",
    "\n",
    "# Расчет критерия Шеннона\n",
    "import math\n",
    "\n",
    "def Shennon(labels):\n",
    "    #  подсчет количества объектов разных классов\n",
    "    classes = {}\n",
    "    for label in labels:\n",
    "        if label not in classes:\n",
    "            classes[label] = 0\n",
    "        classes[label] += 1\n",
    "    \n",
    "    #  расчет критерия\n",
    "    entropy= 1\n",
    "    for label in classes:\n",
    "        p = classes[label] / len(labels)\n",
    "        entropy -= p * math.log(p,2) \n",
    "    \n",
    "    return entropy\n",
    "        \n",
    "def current_crit(labels, default_crit = 'Gini'):\n",
    "    if default_crit == 'Shennon':\n",
    "        return Shennon(labels)\n",
    "    else:\n",
    "        return  gini(labels)"
   ]
  },
  {
   "cell_type": "code",
   "execution_count": 7,
   "metadata": {},
   "outputs": [],
   "source": [
    "def quality(left_labels, right_labels, current_value):\n",
    "\n",
    "    # доля выбоки, ушедшая в левое поддерево\n",
    "    p = float(left_labels.shape[0]) / (left_labels.shape[0] + right_labels.shape[0])\n",
    "    return current_value - p * current_crit(left_labels) - (1 - p) * current_crit(right_labels)"
   ]
  },
  {
   "cell_type": "code",
   "execution_count": 8,
   "metadata": {},
   "outputs": [],
   "source": [
    "# Разбиение датасета в узле\n",
    "\n",
    "def split(data, labels, index, t):\n",
    "    \n",
    "    left = np.where(data[:, index] <= t)\n",
    "    right = np.where(data[:, index] > t)\n",
    "        \n",
    "    true_data = data[left]\n",
    "    false_data = data[right]\n",
    "    true_labels = labels[left]\n",
    "    false_labels = labels[right]\n",
    "        \n",
    "    return true_data, false_data, true_labels, false_labels"
   ]
  },
  {
   "cell_type": "code",
   "execution_count": 9,
   "metadata": {},
   "outputs": [],
   "source": [
    "# Нахождение наилучшего разбиения\n",
    "\n",
    "def find_best_split(data, labels):\n",
    "    \n",
    "    #  обозначим минимальное количество объектов в узле\n",
    "    min_leaf = 5\n",
    "\n",
    "    current_value = current_crit(labels)\n",
    "\n",
    "    best_quality = 0\n",
    "    best_t = None\n",
    "    best_index = None\n",
    "    \n",
    "    n_features = data.shape[1]\n",
    "    \n",
    "    # выбор индекса из подвыборки длиной sqrt(n_features)\n",
    "    subsample = get_subsample(n_features)\n",
    "    \n",
    "    for index in subsample:\n",
    "        t_values = [row[index] for row in data]\n",
    "        \n",
    "        for t in t_values:\n",
    "            true_data, false_data, true_labels, false_labels = split(data, labels, index, t)\n",
    "            #  пропускаем разбиения, в которых в узле остается менее 5 объектов\n",
    "            if len(true_data) < min_leaf or len(false_data) < min_leaf:\n",
    "                continue\n",
    "            \n",
    "            current_quality = quality(true_labels, false_labels, current_value)\n",
    "            \n",
    "            #  выбираем порог, на котором получается максимальный прирост качества\n",
    "            if current_quality > best_quality:\n",
    "                best_quality, best_t, best_index = current_quality, t, index\n",
    "\n",
    "    return best_quality, best_t, best_index"
   ]
  },
  {
   "cell_type": "code",
   "execution_count": 10,
   "metadata": {},
   "outputs": [],
   "source": [
    "# Построение дерева с помощью рекурсивной функции\n",
    "\n",
    "def build_tree(data, labels, max_depth, current_depth=0):\n",
    "\n",
    "    quality, t, index = find_best_split(data, labels)\n",
    "\n",
    "    #  Базовый случай - прекращаем рекурсию, когда нет прироста в качества\n",
    "    if quality == 0 or current_depth>=max_depth:\n",
    "        return Leaf(data, labels)\n",
    "\n",
    "    true_data, false_data, true_labels, false_labels = split(data, labels, index, t)\n",
    "\n",
    "    # Рекурсивно строим два поддерева\n",
    "    true_branch = build_tree(true_data, true_labels, current_depth + 1)\n",
    "    false_branch = build_tree(false_data, false_labels, current_depth + 1)\n",
    "\n",
    "    # Возвращаем класс узла со всеми поддеревьями, то есть целого дерева\n",
    "    return Node(index, t, true_branch, false_branch)"
   ]
  },
  {
   "cell_type": "code",
   "execution_count": 11,
   "metadata": {},
   "outputs": [],
   "source": [
    "import time\n",
    "def random_forest(data, labels, n_trees, max_depth = 1, max_samples = 1):\n",
    "    forest = []\n",
    "    bootstrap = get_bootstrap(data, labels, n_trees, max_samples)\n",
    "    i_tree = 0\n",
    "    start_time = time.time()\n",
    "    epoch_time = start_time\n",
    "    for b_data, b_labels in bootstrap:\n",
    "        i_tree += 1\n",
    "        forest.append(build_tree(b_data, b_labels, max_depth))\n",
    "        if i_tree % 3 == 1:\n",
    "            print(f'Build tree {i_tree} {(time.time() - epoch_time)}')\n",
    "            epoch_time = time.time()\n",
    "            \n",
    "    return forest"
   ]
  },
  {
   "cell_type": "code",
   "execution_count": 12,
   "metadata": {},
   "outputs": [],
   "source": [
    "# Функция классификации отдельного объекта\n",
    "\n",
    "def classify_object(obj, node):\n",
    "\n",
    "    #  Останавливаем рекурсию, если достигли листа\n",
    "    if isinstance(node, Leaf):\n",
    "        answer = node.prediction\n",
    "        return answer\n",
    "\n",
    "    if obj[node.index] <= node.t:\n",
    "        return classify_object(obj, node.true_branch)\n",
    "    else:\n",
    "        return classify_object(obj, node.false_branch)"
   ]
  },
  {
   "cell_type": "code",
   "execution_count": 13,
   "metadata": {},
   "outputs": [],
   "source": [
    "# функция формирования предсказания по выборке на одном дереве\n",
    "\n",
    "def predict(data, tree):\n",
    "    \n",
    "    classes = []\n",
    "    for obj in data:\n",
    "        prediction = classify_object(obj, tree)\n",
    "        classes.append(prediction)\n",
    "    return classes"
   ]
  },
  {
   "cell_type": "code",
   "execution_count": 14,
   "metadata": {},
   "outputs": [],
   "source": [
    "# предсказание голосованием деревьев\n",
    "\n",
    "def tree_vote(forest, data):\n",
    "\n",
    "    # добавим предсказания всех деревьев в список\n",
    "    predictions = []\n",
    "    for tree in forest:\n",
    "        predictions.append(predict(data, tree))\n",
    "    \n",
    "    # сформируем список с предсказаниями для каждого объекта\n",
    "    predictions_per_object = list(zip(*predictions))\n",
    "    \n",
    "    # выберем в качестве итогового предсказания для каждого объекта то,\n",
    "    # за которое проголосовало большинство деревьев\n",
    "    voted_predictions = []\n",
    "    for obj in predictions_per_object:\n",
    "        voted_predictions.append(max(set(obj), key=obj.count))\n",
    "        \n",
    "    return voted_predictions"
   ]
  },
  {
   "cell_type": "code",
   "execution_count": 15,
   "metadata": {},
   "outputs": [],
   "source": [
    "def ROC_AUC_metric(actual_, predicted_):\n",
    "    actual, predicted = actual_.copy(), predicted_.copy()\n",
    "    df = pd.DataFrame(data  = {'predicted': predicted, 'actual': actual})\n",
    "    df.sort_values(by=['actual'])\n",
    "    AUC = 0\n",
    "    TPR = 0\n",
    "    FPR = 0\n",
    "    TP=FP=TN=FN = 0\n",
    "    df_true = df.loc[df['predicted'] == df['actual'], 'predicted' ]\n",
    "    df_false = df.loc[df['predicted'] != df['actual'], 'predicted' ]\n",
    "    TP = df_true.sum()\n",
    "    TN = df_true.count() - TP\n",
    "    FP = df_false.sum()\n",
    "    FN = df_false.count() - FP  \n",
    "    TPR = TP/(TP+FN)\n",
    "    FPR = FP/(TN+FP)\n",
    "    AUC = (1 + TPR- FPR)/2\n",
    "    return AUC"
   ]
  },
  {
   "cell_type": "code",
   "execution_count": 16,
   "metadata": {},
   "outputs": [],
   "source": [
    "def info_dataset(df, name_dataset):\n",
    "    spam = ''\n",
    "    print(f'Dataset:{name_dataset}')\n",
    "    print(f'Название {spam:21}|Всего |Null-значений |Уникальных значений |Тип')\n",
    "    for column_name in df.columns:\n",
    "        all_count =  len(df[column_name])\n",
    "        null_count = sum(df[column_name].isnull())\n",
    "        unique_count = df[column_name].unique().size\n",
    "        print(f'{column_name:30}|{all_count:6}|{null_count:14}|{unique_count:20}|{df[column_name].dtype}')\n",
    "    print('-'*100)"
   ]
  },
  {
   "cell_type": "markdown",
   "metadata": {},
   "source": [
    "##### Data import"
   ]
  },
  {
   "cell_type": "code",
   "execution_count": 17,
   "metadata": {},
   "outputs": [],
   "source": [
    "TRAIN_DATASET_PATH = 'train.csv'\n",
    "TEST_DATASET_PATH = 'test.csv'\n",
    "TARGET_NAME = 'choose'\n",
    "ALL_FEATURES = ['age', 'years_of_experience', 'lesson_price', 'qualification', 'physics', 'chemistry', \n",
    "               'biology', 'english', 'geography', 'history', 'mean_exam_points']\n",
    "\n",
    "\n",
    "train = pd.read_csv(TRAIN_DATASET_PATH, index_col = 'Id')\n",
    "test = pd.read_csv(TEST_DATASET_PATH, index_col = 'Id')"
   ]
  },
  {
   "cell_type": "code",
   "execution_count": 18,
   "metadata": {},
   "outputs": [
    {
     "name": "stdout",
     "output_type": "stream",
     "text": [
      "Dataset:train\n",
      "Название                      |Всего |Null-значений |Уникальных значений |Тип\n",
      "age                           | 10000|             0|                  46|float64\n",
      "years_of_experience           | 10000|             0|                  10|float64\n",
      "lesson_price                  | 10000|             0|                  71|float64\n",
      "qualification                 | 10000|             0|                   4|float64\n",
      "physics                       | 10000|             0|                   2|float64\n",
      "chemistry                     | 10000|             0|                   2|float64\n",
      "biology                       | 10000|             0|                   2|float64\n",
      "english                       | 10000|             0|                   2|float64\n",
      "geography                     | 10000|             0|                   2|float64\n",
      "history                       | 10000|             0|                   2|float64\n",
      "mean_exam_points              | 10000|             0|                  68|float64\n",
      "choose                        | 10000|             0|                   2|int64\n",
      "----------------------------------------------------------------------------------------------------\n"
     ]
    }
   ],
   "source": [
    "info_dataset(train, 'train')"
   ]
  },
  {
   "cell_type": "code",
   "execution_count": 19,
   "metadata": {},
   "outputs": [
    {
     "data": {
      "image/png": "[encoded data removed]",
      "text/plain": [
       "<Figure size 1440x1440 with 2 Axes>"
      ]
     },
     "metadata": {
      "needs_background": "light"
     },
     "output_type": "display_data"
    }
   ],
   "source": [
    "plt.figure(figsize = (20,20))\n",
    "\n",
    "sns.set(font_scale=1)\n",
    "sns.heatmap(train.corr().round(3), annot=True, linewidths=.5, cmap='GnBu')\n",
    "\n",
    "plt.title('Correlation matrix')\n",
    "plt.show()"
   ]
  },
  {
   "cell_type": "code",
   "execution_count": 20,
   "metadata": {},
   "outputs": [],
   "source": [
    "ALL_FEATURES = ['age', 'years_of_experience', 'lesson_price', 'qualification', 'mean_exam_points']"
   ]
  },
  {
   "cell_type": "code",
   "execution_count": 21,
   "metadata": {},
   "outputs": [],
   "source": [
    "# Разобьем выборку на обучающую и тестовую\n",
    "\n",
    "from sklearn import model_selection\n",
    "X = train[ALL_FEATURES]\n",
    "Y = train[TARGET_NAME]\n",
    "train_data, valid_data, train_labels, valid_labels = model_selection.train_test_split(X, \n",
    "                                                                                     Y, \n",
    "                                                                                     stratify=Y,\n",
    "                                                                                     test_size = 0.3,\n",
    "                                                                                     random_state = 1)"
   ]
  },
  {
   "cell_type": "code",
   "execution_count": 22,
   "metadata": {},
   "outputs": [
    {
     "data": {
      "text/html": [
       "<div>\n",
       "<style scoped>\n",
       "    .dataframe tbody tr th:only-of-type {\n",
       "        vertical-align: middle;\n",
       "    }\n",
       "\n",
       "    .dataframe tbody tr th {\n",
       "        vertical-align: top;\n",
       "    }\n",
       "\n",
       "    .dataframe thead th {\n",
       "        text-align: right;\n",
       "    }\n",
       "</style>\n",
       "<table border=\"1\" class=\"dataframe\">\n",
       "  <thead>\n",
       "    <tr style=\"text-align: right;\">\n",
       "      <th></th>\n",
       "      <th>age</th>\n",
       "      <th>years_of_experience</th>\n",
       "      <th>lesson_price</th>\n",
       "      <th>qualification</th>\n",
       "      <th>mean_exam_points</th>\n",
       "    </tr>\n",
       "    <tr>\n",
       "      <th>choose</th>\n",
       "      <th></th>\n",
       "      <th></th>\n",
       "      <th></th>\n",
       "      <th></th>\n",
       "      <th></th>\n",
       "    </tr>\n",
       "  </thead>\n",
       "  <tbody>\n",
       "    <tr>\n",
       "      <td>0</td>\n",
       "      <td>6224</td>\n",
       "      <td>6224</td>\n",
       "      <td>6224</td>\n",
       "      <td>6224</td>\n",
       "      <td>6224</td>\n",
       "    </tr>\n",
       "    <tr>\n",
       "      <td>1</td>\n",
       "      <td>776</td>\n",
       "      <td>776</td>\n",
       "      <td>776</td>\n",
       "      <td>776</td>\n",
       "      <td>776</td>\n",
       "    </tr>\n",
       "  </tbody>\n",
       "</table>\n",
       "</div>"
      ],
      "text/plain": [
       "         age  years_of_experience  lesson_price  qualification  \\\n",
       "choose                                                           \n",
       "0       6224                 6224          6224           6224   \n",
       "1        776                  776           776            776   \n",
       "\n",
       "        mean_exam_points  \n",
       "choose                    \n",
       "0                   6224  \n",
       "1                    776  "
      ]
     },
     "execution_count": 22,
     "metadata": {},
     "output_type": "execute_result"
    }
   ],
   "source": [
    "df_for_balancing = pd.concat([train_data,train_labels], axis=1)\n",
    "df_for_balancing.groupby(TARGET_NAME).count()"
   ]
  },
  {
   "cell_type": "code",
   "execution_count": 23,
   "metadata": {},
   "outputs": [
    {
     "data": {
      "text/html": [
       "<div>\n",
       "<style scoped>\n",
       "    .dataframe tbody tr th:only-of-type {\n",
       "        vertical-align: middle;\n",
       "    }\n",
       "\n",
       "    .dataframe tbody tr th {\n",
       "        vertical-align: top;\n",
       "    }\n",
       "\n",
       "    .dataframe thead th {\n",
       "        text-align: right;\n",
       "    }\n",
       "</style>\n",
       "<table border=\"1\" class=\"dataframe\">\n",
       "  <thead>\n",
       "    <tr style=\"text-align: right;\">\n",
       "      <th></th>\n",
       "      <th>age</th>\n",
       "      <th>years_of_experience</th>\n",
       "      <th>lesson_price</th>\n",
       "      <th>qualification</th>\n",
       "      <th>mean_exam_points</th>\n",
       "    </tr>\n",
       "    <tr>\n",
       "      <th>choose</th>\n",
       "      <th></th>\n",
       "      <th></th>\n",
       "      <th></th>\n",
       "      <th></th>\n",
       "      <th></th>\n",
       "    </tr>\n",
       "  </thead>\n",
       "  <tbody>\n",
       "    <tr>\n",
       "      <td>0</td>\n",
       "      <td>6224</td>\n",
       "      <td>6224</td>\n",
       "      <td>6224</td>\n",
       "      <td>6224</td>\n",
       "      <td>6224</td>\n",
       "    </tr>\n",
       "    <tr>\n",
       "      <td>1</td>\n",
       "      <td>6224</td>\n",
       "      <td>6224</td>\n",
       "      <td>6224</td>\n",
       "      <td>6224</td>\n",
       "      <td>6224</td>\n",
       "    </tr>\n",
       "  </tbody>\n",
       "</table>\n",
       "</div>"
      ],
      "text/plain": [
       "         age  years_of_experience  lesson_price  qualification  \\\n",
       "choose                                                           \n",
       "0       6224                 6224          6224           6224   \n",
       "1       6224                 6224          6224           6224   \n",
       "\n",
       "        mean_exam_points  \n",
       "choose                    \n",
       "0                   6224  \n",
       "1                   6224  "
      ]
     },
     "execution_count": 23,
     "metadata": {},
     "output_type": "execute_result"
    }
   ],
   "source": [
    "num_0 = len(df_for_balancing[df_for_balancing[TARGET_NAME]==0])\n",
    "num_1 = len(df_for_balancing[df_for_balancing[TARGET_NAME]==1])\n",
    "df_for_balanced = pd.concat([ df_for_balancing[df_for_balancing[TARGET_NAME]==0],\n",
    "                              df_for_balancing[df_for_balancing[TARGET_NAME]==1].sample(int(num_0), replace=True)], axis=0)#\n",
    "df_for_balanced = df_for_balanced.sample(frac=1).reset_index(drop=True)\n",
    "df_for_balanced.groupby(TARGET_NAME).count()"
   ]
  },
  {
   "cell_type": "code",
   "execution_count": 24,
   "metadata": {},
   "outputs": [
    {
     "data": {
      "text/html": [
       "<div>\n",
       "<style scoped>\n",
       "    .dataframe tbody tr th:only-of-type {\n",
       "        vertical-align: middle;\n",
       "    }\n",
       "\n",
       "    .dataframe tbody tr th {\n",
       "        vertical-align: top;\n",
       "    }\n",
       "\n",
       "    .dataframe thead th {\n",
       "        text-align: right;\n",
       "    }\n",
       "</style>\n",
       "<table border=\"1\" class=\"dataframe\">\n",
       "  <thead>\n",
       "    <tr style=\"text-align: right;\">\n",
       "      <th></th>\n",
       "      <th>age</th>\n",
       "      <th>years_of_experience</th>\n",
       "      <th>lesson_price</th>\n",
       "      <th>qualification</th>\n",
       "      <th>mean_exam_points</th>\n",
       "      <th>choose</th>\n",
       "    </tr>\n",
       "  </thead>\n",
       "  <tbody>\n",
       "    <tr>\n",
       "      <td>count</td>\n",
       "      <td>12448.000000</td>\n",
       "      <td>12448.000000</td>\n",
       "      <td>12448.000000</td>\n",
       "      <td>12448.000000</td>\n",
       "      <td>12448.00000</td>\n",
       "      <td>12448.00000</td>\n",
       "    </tr>\n",
       "    <tr>\n",
       "      <td>mean</td>\n",
       "      <td>45.866244</td>\n",
       "      <td>2.025868</td>\n",
       "      <td>1617.167416</td>\n",
       "      <td>1.771289</td>\n",
       "      <td>66.48080</td>\n",
       "      <td>0.50000</td>\n",
       "    </tr>\n",
       "    <tr>\n",
       "      <td>std</td>\n",
       "      <td>8.083333</td>\n",
       "      <td>1.819078</td>\n",
       "      <td>514.298355</td>\n",
       "      <td>0.833049</td>\n",
       "      <td>13.02793</td>\n",
       "      <td>0.50002</td>\n",
       "    </tr>\n",
       "    <tr>\n",
       "      <td>min</td>\n",
       "      <td>23.000000</td>\n",
       "      <td>0.000000</td>\n",
       "      <td>200.000000</td>\n",
       "      <td>1.000000</td>\n",
       "      <td>33.00000</td>\n",
       "      <td>0.00000</td>\n",
       "    </tr>\n",
       "    <tr>\n",
       "      <td>25%</td>\n",
       "      <td>40.000000</td>\n",
       "      <td>0.000000</td>\n",
       "      <td>1250.000000</td>\n",
       "      <td>1.000000</td>\n",
       "      <td>57.00000</td>\n",
       "      <td>0.00000</td>\n",
       "    </tr>\n",
       "    <tr>\n",
       "      <td>50%</td>\n",
       "      <td>46.000000</td>\n",
       "      <td>2.000000</td>\n",
       "      <td>1450.000000</td>\n",
       "      <td>2.000000</td>\n",
       "      <td>65.00000</td>\n",
       "      <td>0.50000</td>\n",
       "    </tr>\n",
       "    <tr>\n",
       "      <td>75%</td>\n",
       "      <td>51.000000</td>\n",
       "      <td>3.000000</td>\n",
       "      <td>2050.000000</td>\n",
       "      <td>2.000000</td>\n",
       "      <td>75.00000</td>\n",
       "      <td>1.00000</td>\n",
       "    </tr>\n",
       "    <tr>\n",
       "      <td>max</td>\n",
       "      <td>68.000000</td>\n",
       "      <td>9.000000</td>\n",
       "      <td>3750.000000</td>\n",
       "      <td>4.000000</td>\n",
       "      <td>100.00000</td>\n",
       "      <td>1.00000</td>\n",
       "    </tr>\n",
       "  </tbody>\n",
       "</table>\n",
       "</div>"
      ],
      "text/plain": [
       "                age  years_of_experience  lesson_price  qualification  \\\n",
       "count  12448.000000         12448.000000  12448.000000   12448.000000   \n",
       "mean      45.866244             2.025868   1617.167416       1.771289   \n",
       "std        8.083333             1.819078    514.298355       0.833049   \n",
       "min       23.000000             0.000000    200.000000       1.000000   \n",
       "25%       40.000000             0.000000   1250.000000       1.000000   \n",
       "50%       46.000000             2.000000   1450.000000       2.000000   \n",
       "75%       51.000000             3.000000   2050.000000       2.000000   \n",
       "max       68.000000             9.000000   3750.000000       4.000000   \n",
       "\n",
       "       mean_exam_points       choose  \n",
       "count       12448.00000  12448.00000  \n",
       "mean           66.48080      0.50000  \n",
       "std            13.02793      0.50002  \n",
       "min            33.00000      0.00000  \n",
       "25%            57.00000      0.00000  \n",
       "50%            65.00000      0.50000  \n",
       "75%            75.00000      1.00000  \n",
       "max           100.00000      1.00000  "
      ]
     },
     "execution_count": 24,
     "metadata": {},
     "output_type": "execute_result"
    }
   ],
   "source": [
    "df_for_balanced.describe()"
   ]
  },
  {
   "cell_type": "code",
   "execution_count": 25,
   "metadata": {},
   "outputs": [
    {
     "data": {
      "text/html": [
       "<div>\n",
       "<style scoped>\n",
       "    .dataframe tbody tr th:only-of-type {\n",
       "        vertical-align: middle;\n",
       "    }\n",
       "\n",
       "    .dataframe tbody tr th {\n",
       "        vertical-align: top;\n",
       "    }\n",
       "\n",
       "    .dataframe thead th {\n",
       "        text-align: right;\n",
       "    }\n",
       "</style>\n",
       "<table border=\"1\" class=\"dataframe\">\n",
       "  <thead>\n",
       "    <tr style=\"text-align: right;\">\n",
       "      <th></th>\n",
       "      <th>age</th>\n",
       "      <th>years_of_experience</th>\n",
       "      <th>lesson_price</th>\n",
       "      <th>qualification</th>\n",
       "      <th>mean_exam_points</th>\n",
       "    </tr>\n",
       "  </thead>\n",
       "  <tbody>\n",
       "    <tr>\n",
       "      <td>count</td>\n",
       "      <td>7000.000000</td>\n",
       "      <td>7000.000000</td>\n",
       "      <td>7000.000000</td>\n",
       "      <td>7000.000000</td>\n",
       "      <td>7000.000000</td>\n",
       "    </tr>\n",
       "    <tr>\n",
       "      <td>mean</td>\n",
       "      <td>45.797286</td>\n",
       "      <td>1.967000</td>\n",
       "      <td>1698.907143</td>\n",
       "      <td>1.724714</td>\n",
       "      <td>64.433000</td>\n",
       "    </tr>\n",
       "    <tr>\n",
       "      <td>std</td>\n",
       "      <td>8.033411</td>\n",
       "      <td>1.773718</td>\n",
       "      <td>524.676012</td>\n",
       "      <td>0.800818</td>\n",
       "      <td>13.592715</td>\n",
       "    </tr>\n",
       "    <tr>\n",
       "      <td>min</td>\n",
       "      <td>23.000000</td>\n",
       "      <td>0.000000</td>\n",
       "      <td>200.000000</td>\n",
       "      <td>1.000000</td>\n",
       "      <td>33.000000</td>\n",
       "    </tr>\n",
       "    <tr>\n",
       "      <td>25%</td>\n",
       "      <td>40.000000</td>\n",
       "      <td>0.000000</td>\n",
       "      <td>1300.000000</td>\n",
       "      <td>1.000000</td>\n",
       "      <td>55.000000</td>\n",
       "    </tr>\n",
       "    <tr>\n",
       "      <td>50%</td>\n",
       "      <td>46.000000</td>\n",
       "      <td>2.000000</td>\n",
       "      <td>1500.000000</td>\n",
       "      <td>2.000000</td>\n",
       "      <td>63.000000</td>\n",
       "    </tr>\n",
       "    <tr>\n",
       "      <td>75%</td>\n",
       "      <td>51.000000</td>\n",
       "      <td>3.000000</td>\n",
       "      <td>2150.000000</td>\n",
       "      <td>2.000000</td>\n",
       "      <td>74.000000</td>\n",
       "    </tr>\n",
       "    <tr>\n",
       "      <td>max</td>\n",
       "      <td>68.000000</td>\n",
       "      <td>9.000000</td>\n",
       "      <td>3750.000000</td>\n",
       "      <td>4.000000</td>\n",
       "      <td>100.000000</td>\n",
       "    </tr>\n",
       "  </tbody>\n",
       "</table>\n",
       "</div>"
      ],
      "text/plain": [
       "               age  years_of_experience  lesson_price  qualification  \\\n",
       "count  7000.000000          7000.000000   7000.000000    7000.000000   \n",
       "mean     45.797286             1.967000   1698.907143       1.724714   \n",
       "std       8.033411             1.773718    524.676012       0.800818   \n",
       "min      23.000000             0.000000    200.000000       1.000000   \n",
       "25%      40.000000             0.000000   1300.000000       1.000000   \n",
       "50%      46.000000             2.000000   1500.000000       2.000000   \n",
       "75%      51.000000             3.000000   2150.000000       2.000000   \n",
       "max      68.000000             9.000000   3750.000000       4.000000   \n",
       "\n",
       "       mean_exam_points  \n",
       "count       7000.000000  \n",
       "mean          64.433000  \n",
       "std           13.592715  \n",
       "min           33.000000  \n",
       "25%           55.000000  \n",
       "50%           63.000000  \n",
       "75%           74.000000  \n",
       "max          100.000000  "
      ]
     },
     "execution_count": 25,
     "metadata": {},
     "output_type": "execute_result"
    }
   ],
   "source": [
    "train_data.describe()"
   ]
  },
  {
   "cell_type": "code",
   "execution_count": 26,
   "metadata": {},
   "outputs": [
    {
     "data": {
      "text/html": [
       "<div>\n",
       "<style scoped>\n",
       "    .dataframe tbody tr th:only-of-type {\n",
       "        vertical-align: middle;\n",
       "    }\n",
       "\n",
       "    .dataframe tbody tr th {\n",
       "        vertical-align: top;\n",
       "    }\n",
       "\n",
       "    .dataframe thead th {\n",
       "        text-align: right;\n",
       "    }\n",
       "</style>\n",
       "<table border=\"1\" class=\"dataframe\">\n",
       "  <thead>\n",
       "    <tr style=\"text-align: right;\">\n",
       "      <th></th>\n",
       "      <th>age</th>\n",
       "      <th>years_of_experience</th>\n",
       "      <th>lesson_price</th>\n",
       "      <th>qualification</th>\n",
       "      <th>mean_exam_points</th>\n",
       "    </tr>\n",
       "  </thead>\n",
       "  <tbody>\n",
       "    <tr>\n",
       "      <td>count</td>\n",
       "      <td>12448.000000</td>\n",
       "      <td>12448.000000</td>\n",
       "      <td>12448.000000</td>\n",
       "      <td>12448.000000</td>\n",
       "      <td>12448.00000</td>\n",
       "    </tr>\n",
       "    <tr>\n",
       "      <td>mean</td>\n",
       "      <td>45.866244</td>\n",
       "      <td>2.025868</td>\n",
       "      <td>1617.167416</td>\n",
       "      <td>1.771289</td>\n",
       "      <td>66.48080</td>\n",
       "    </tr>\n",
       "    <tr>\n",
       "      <td>std</td>\n",
       "      <td>8.083333</td>\n",
       "      <td>1.819078</td>\n",
       "      <td>514.298355</td>\n",
       "      <td>0.833049</td>\n",
       "      <td>13.02793</td>\n",
       "    </tr>\n",
       "    <tr>\n",
       "      <td>min</td>\n",
       "      <td>23.000000</td>\n",
       "      <td>0.000000</td>\n",
       "      <td>200.000000</td>\n",
       "      <td>1.000000</td>\n",
       "      <td>33.00000</td>\n",
       "    </tr>\n",
       "    <tr>\n",
       "      <td>25%</td>\n",
       "      <td>40.000000</td>\n",
       "      <td>0.000000</td>\n",
       "      <td>1250.000000</td>\n",
       "      <td>1.000000</td>\n",
       "      <td>57.00000</td>\n",
       "    </tr>\n",
       "    <tr>\n",
       "      <td>50%</td>\n",
       "      <td>46.000000</td>\n",
       "      <td>2.000000</td>\n",
       "      <td>1450.000000</td>\n",
       "      <td>2.000000</td>\n",
       "      <td>65.00000</td>\n",
       "    </tr>\n",
       "    <tr>\n",
       "      <td>75%</td>\n",
       "      <td>51.000000</td>\n",
       "      <td>3.000000</td>\n",
       "      <td>2050.000000</td>\n",
       "      <td>2.000000</td>\n",
       "      <td>75.00000</td>\n",
       "    </tr>\n",
       "    <tr>\n",
       "      <td>max</td>\n",
       "      <td>68.000000</td>\n",
       "      <td>9.000000</td>\n",
       "      <td>3750.000000</td>\n",
       "      <td>4.000000</td>\n",
       "      <td>100.00000</td>\n",
       "    </tr>\n",
       "  </tbody>\n",
       "</table>\n",
       "</div>"
      ],
      "text/plain": [
       "                age  years_of_experience  lesson_price  qualification  \\\n",
       "count  12448.000000         12448.000000  12448.000000   12448.000000   \n",
       "mean      45.866244             2.025868   1617.167416       1.771289   \n",
       "std        8.083333             1.819078    514.298355       0.833049   \n",
       "min       23.000000             0.000000    200.000000       1.000000   \n",
       "25%       40.000000             0.000000   1250.000000       1.000000   \n",
       "50%       46.000000             2.000000   1450.000000       2.000000   \n",
       "75%       51.000000             3.000000   2050.000000       2.000000   \n",
       "max       68.000000             9.000000   3750.000000       4.000000   \n",
       "\n",
       "       mean_exam_points  \n",
       "count       12448.00000  \n",
       "mean           66.48080  \n",
       "std            13.02793  \n",
       "min            33.00000  \n",
       "25%            57.00000  \n",
       "50%            65.00000  \n",
       "75%            75.00000  \n",
       "max           100.00000  "
      ]
     },
     "execution_count": 26,
     "metadata": {},
     "output_type": "execute_result"
    }
   ],
   "source": [
    "train_data, train_labels = df_for_balanced[ALL_FEATURES], df_for_balanced[TARGET_NAME]\n",
    "train_data.describe()"
   ]
  },
  {
   "cell_type": "code",
   "execution_count": 27,
   "metadata": {},
   "outputs": [
    {
     "name": "stdout",
     "output_type": "stream",
     "text": [
      "Build tree 1 399.4907786846161\n"
     ]
    }
   ],
   "source": [
    "n_trees = 1\n",
    "\n",
    "forest = random_forest(train_data.values,  train_labels.values.reshape(-1), n_trees, max_depth = 9, max_samples = 1)"
   ]
  },
  {
   "cell_type": "code",
   "execution_count": 28,
   "metadata": {},
   "outputs": [],
   "source": [
    "predicted = tree_vote(forest, train_data.values)"
   ]
  },
  {
   "cell_type": "code",
   "execution_count": 29,
   "metadata": {},
   "outputs": [
    {
     "data": {
      "text/plain": [
       "0.8737146529562982"
      ]
     },
     "execution_count": 29,
     "metadata": {},
     "output_type": "execute_result"
    }
   ],
   "source": [
    "ROC_AUC_metric(train_labels.values.reshape(-1), predicted)"
   ]
  },
  {
   "cell_type": "code",
   "execution_count": 30,
   "metadata": {},
   "outputs": [],
   "source": [
    "predicted = tree_vote(forest, valid_data.values)"
   ]
  },
  {
   "cell_type": "code",
   "execution_count": 31,
   "metadata": {},
   "outputs": [
    {
     "data": {
      "text/plain": [
       "0.6489779993717002"
      ]
     },
     "execution_count": 31,
     "metadata": {},
     "output_type": "execute_result"
    }
   ],
   "source": [
    "ROC_AUC_metric(valid_labels.values.reshape(-1), predicted)"
   ]
  },
  {
   "cell_type": "code",
   "execution_count": 32,
   "metadata": {},
   "outputs": [
    {
     "data": {
      "text/plain": [
       "0.6411985663954168"
      ]
     },
     "execution_count": 32,
     "metadata": {},
     "output_type": "execute_result"
    }
   ],
   "source": [
    "0.6411985663954168"
   ]
  },
  {
   "cell_type": "code",
   "execution_count": 33,
   "metadata": {},
   "outputs": [],
   "source": [
    "predicted_test = tree_vote(forest, test.values)"
   ]
  },
  {
   "cell_type": "code",
   "execution_count": 34,
   "metadata": {},
   "outputs": [],
   "source": [
    "matrix = np.vstack((range(10000, 20000), predicted_test)).T\n",
    "final_df = pd.DataFrame(matrix, index=range(matrix.shape[0]),\n",
    "                          columns=range(matrix.shape[1]))\n",
    "final_df.columns = ['Id', 'choose']\n",
    "final_df['Id'] = final_df['Id'].astype('int')\n",
    "final_df['choose'] = final_df['choose'].astype('int')\n",
    "final_df.to_csv('result.csv', index=False)\n"
   ]
  },
  {
   "cell_type": "code",
   "execution_count": null,
   "metadata": {},
   "outputs": [],
   "source": []
  }
 ],
 "metadata": {
  "kernelspec": {
   "display_name": "Python 3",
   "language": "python",
   "name": "python3"
  },
  "language_info": {
   "codemirror_mode": {
    "name": "ipython",
    "version": 3
   },
   "file_extension": ".py",
   "mimetype": "text/x-python",
   "name": "python",
   "nbconvert_exporter": "python",
   "pygments_lexer": "ipython3",
   "version": "3.7.4"
  }
 },
 "nbformat": 4,
 "nbformat_minor": 2
}
